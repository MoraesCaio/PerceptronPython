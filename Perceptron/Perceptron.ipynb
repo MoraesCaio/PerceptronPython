{
 "cells": [
  {
   "cell_type": "code",
   "execution_count": 2,
   "metadata": {},
   "outputs": [],
   "source": [
    "import numpy as np\n",
    "import matplotlib.pyplot as plt\n",
    "from scipy.interpolate import spline\n",
    "from sklearn.metrics import classification_report\n",
    "from sklearn.metrics import confusion_matrix\n",
    "from sklearn.metrics import accuracy_score"
   ]
  },
  {
   "cell_type": "markdown",
   "metadata": {},
   "source": [
    "# Perceptron\n",
    "\n",
    "Perceptron é um classificador binário linear e representa um neurônio, a estrutura básica de uma rede neural. No perceptron, recebe-se os atributos de entrada da base de treinamento (e.g. as entradas de uma porta lógica AND/OR) e multiplica, cada uma delas, por um peso W, conforme Figura 1. Feito isso, os valores resultantes são somados e passam por uma função de ativação.\n",
    "Nesse notebook, todos os passos para implementação do perceptron serão feitos utilizando Numpy, para isso, 5 etapas deverão ser feitas:\n",
    "1. Inicializaçao dos pesos e bias\n",
    "2. Implementando funções de ativação\n",
    "3. Calculando a saída do neurônio\n",
    "4. Predição\n",
    "5. Treino e avaliação\n",
    "\n",
    "![alt text](imgs/perceptron.jpg \"Title\")"
   ]
  },
  {
   "cell_type": "markdown",
   "metadata": {},
   "source": [
    "### Parte 1 - Inicialização dos pesos e bias\n",
    "\n",
    "Ao implementar um perceptron, o primeiro passo é iniciar os pesos em um intervalo pequeno, como [-0.5,0.5] aleatoriamente. O bias quando necessário também deve ser inicializado nessa etapa.\n",
    "\n",
    "Para implementar essa etapa, voçê deve utilizar a função weight_init(num_inputs). Dica: você pode utilizar a [função random do numpy](https://docs.scipy.org/doc/numpy/reference/generated/numpy.random.random.html)"
   ]
  },
  {
   "cell_type": "code",
   "execution_count": 3,
   "metadata": {},
   "outputs": [
    {
     "name": "stdout",
     "output_type": "stream",
     "text": [
      "w: [0.27122333 0.56513091 0.24401206 0.17750054 0.47948265 0.05057883\n",
      " 0.30271898 0.07135345 0.87679336 0.46075505]\n",
      "b: -0.1\n"
     ]
    }
   ],
   "source": [
    "def weight_init(num_inputs): \n",
    "    \"\"\"\n",
    "    Funcao que inicializa os pesos e bias aleatoriamente utilizando numpy\n",
    "    Parametro: num_inputs - quantidade de entradas X\n",
    "    Retorna: w,b - pesos e bias da rede inicializados\n",
    "    \"\"\"\n",
    "    ### Insira seu código aqui (~2 linhas)\n",
    "    w = np.random.random((num_inputs))\n",
    "    b = -0.1\n",
    "    return w, b\n",
    "\n",
    "# test\n",
    "w, b = weight_init(10)\n",
    "print(\"w: \" + str(w))\n",
    "print(\"b: \" + str(b))"
   ]
  },
  {
   "cell_type": "markdown",
   "metadata": {},
   "source": [
    "### Parte 2 - Implementação das funções de ativação\n",
    "As funções de ativação definem o intervalo de valores que a saída do neurônio poderá ter. Para redes neurais tradicionais, utiliza-se as funções degrau e sigmoid. Redes neurais profundas podem utilizar as funções ReLU, LeakyReLU e Tangente Hiperbólica para evitar problemas no gradiente.\n",
    "\n",
    "Nsse Notebook, as quatro funções de ativação devem ser implementadas, para verificar a corretude das mesmas, a função visualizeActivationFunc exibe os gráficos correspondentes, as funçoes, suas respectivas saídas e gráfico deverão ser similares ao exposto abaixo: (Dica: utilize a [função exp](https://docs.scipy.org/doc/numpy/reference/generated/numpy.exp.html) do numpy)\n",
    "* Degrau: saída 0 se menor que 0 e saída 1 caso contrário\n",
    "$$ \\begin{equation}\n",
    "  degrau =\\begin{cases}\n",
    "    1, & \\text{se $x>0$}.\\\\\n",
    "    0, & \\text{caso contrário}.\n",
    "  \\end{cases}\n",
    "\\end{equation} $$\n",
    "![alt text](imgs/degrau.png \"Title\")\n",
    "* Sigmoid: saída entre [0,1]\n",
    "$$ \\begin{equation}\n",
    "  sigmoid = \\frac{1}{1 + e^{-z}}\n",
    "\\end{equation} $$\n",
    "![alt text](imgs/sigmoid.png \"Title\")\n",
    "* Retificadora (Relu): saída 0 caso entrada seja negativa e maior que 1 caso contrário\n",
    "$$ \\begin{equation}\n",
    "  relu = max(0,x)\n",
    "\\end{equation} $$\n",
    "![alt text](imgs/relu.png \"Title\")\n",
    "* Tangente Hiperbólica: saída entre [-1,1]\n",
    "$$ \\begin{equation}\n",
    "  tanh = \\frac{2}{(1+e^{-2*z})} - 1\n",
    "\\end{equation} $$\n",
    "![alt text](imgs/tanh.png \"Title\")"
   ]
  },
  {
   "cell_type": "code",
   "execution_count": 5,
   "metadata": {},
   "outputs": [
    {
     "name": "stdout",
     "output_type": "stream",
     "text": [
      "\n",
      "SIGMOID\n",
      "[0.11920292 0.13010847 0.14185106 0.15446527 0.16798161 0.18242552\n",
      " 0.19781611 0.21416502 0.23147522 0.24973989 0.26894142 0.2890505\n",
      " 0.31002552 0.33181223 0.35434369 0.37754067 0.40131234 0.42555748\n",
      " 0.450166   0.47502081 0.5        0.52497919 0.549834   0.57444252\n",
      " 0.59868766 0.62245933 0.64565631 0.66818777 0.68997448 0.7109495\n",
      " 0.73105858 0.75026011 0.76852478 0.78583498 0.80218389 0.81757448\n",
      " 0.83201839 0.84553473 0.85814894 0.86989153 0.88079708]\n",
      "\n",
      "SOLO SIGMOID\n",
      "0.11920292202211755\n",
      "\n",
      "TANH\n",
      "[-0.96402758 -0.95623746 -0.94680601 -0.93540907 -0.92166855 -0.90514825\n",
      " -0.88535165 -0.86172316 -0.83365461 -0.80049902 -0.76159416 -0.71629787\n",
      " -0.66403677 -0.60436778 -0.53704957 -0.46211716 -0.37994896 -0.29131261\n",
      " -0.19737532 -0.09966799  0.          0.09966799  0.19737532  0.29131261\n",
      "  0.37994896  0.46211716  0.53704957  0.60436778  0.66403677  0.71629787\n",
      "  0.76159416  0.80049902  0.83365461  0.86172316  0.88535165  0.90514825\n",
      "  0.92166855  0.93540907  0.94680601  0.95623746  0.96402758]\n",
      "\n",
      "SOLO TANH\n",
      "-0.9640275800758169\n",
      "\n",
      "RELU\n",
      "[0.  0.  0.  0.  0.  0.  0.  0.  0.  0.  0.  0.  0.  0.  0.  0.  0.  0.\n",
      " 0.  0.  0.  0.1 0.2 0.3 0.4 0.5 0.6 0.7 0.8 0.9 1.  1.1 1.2 1.3 1.4 1.5\n",
      " 1.6 1.7 1.8 1.9 2. ]\n",
      "\n",
      "SOLO RELU\n",
      "0.0\n",
      "\n",
      "DEGRAU\n",
      "[0 0 0 0 0 0 0 0 0 0 0 0 0 0 0 0 0 0 0 0 0 1 1 1 1 1 1 1 1 1 1 1 1 1 1 1 1\n",
      " 1 1 1 1]\n",
      "\n",
      "SOLO DEGRAU\n",
      "1\n"
     ]
    }
   ],
   "source": [
    "def activation_func(func_type, z):\n",
    "    \"\"\"\n",
    "    Funcao que implementa as funcoes de ativacao mais comuns\n",
    "    Parametros: func_type - uma string que contem a funcao de ativacao desejada\n",
    "                z - vetor com os valores de entrada X multiplicado pelos pesos\n",
    "    Retorna: saida da funcao de ativacao\n",
    "    \"\"\"\n",
    "    z = np.asarray(z)\n",
    "    # Seu codigo aqui (~2 linhas)\n",
    "    if func_type == 'sigmoid':\n",
    "        return 1 / (1 + np.exp(-z))\n",
    "    elif func_type == 'tanh':\n",
    "        return (2 / (1 + np.exp(-2 * z))) - 1\n",
    "    elif func_type == 'relu':\n",
    "        return np.maximum(0, z)\n",
    "    elif func_type == 'degrau':\n",
    "        return 1 * (z > 0)\n",
    "\n",
    "\n",
    "# test\n",
    "p = [x/10.0 for x in range(-20, 21)]\n",
    "print(\"\\nSIGMOID\\n\" + str(activation_func('sigmoid', p)))\n",
    "print(\"\\nSOLO SIGMOID\\n\" + str(activation_func('sigmoid', p[0])))\n",
    "print(\"\\nTANH\\n\" + str(activation_func('tanh', p)))\n",
    "print(\"\\nSOLO TANH\\n\" + str(activation_func('tanh', p[0])))\n",
    "print(\"\\nRELU\\n\" + str(activation_func('relu', p)))\n",
    "print(\"\\nSOLO RELU\\n\" + str(activation_func('relu', p[0])))\n",
    "print(\"\\nDEGRAU\\n\" + str(activation_func('degrau', p)))\n",
    "print(\"\\nSOLO DEGRAU\\n\" + str(activation_func('degrau', 0.1)))"
   ]
  },
  {
   "cell_type": "code",
   "execution_count": 7,
   "metadata": {},
   "outputs": [
    {
     "data": {
      "image/png": "[encoded data removed]",
      "text/plain": [
       "<matplotlib.figure.Figure at 0x7f67957fea50>"
      ]
     },
     "metadata": {},
     "output_type": "display_data"
    }
   ],
   "source": [
    "def visualizeActivationFunc(z):\n",
    "    func = []\n",
    "    for i in range(len(z)):\n",
    "        func.append(activation_func('tanh', z[i]))\n",
    "\n",
    "    plt.plot(z,func)\n",
    "    plt.xlabel('Entrada')\n",
    "    plt.ylabel('Valores de Saida')\n",
    "    plt.show()\n",
    "\n",
    "z = np.arange(-5., 5., 0.2)\n",
    "visualizeActivationFunc(z)"
   ]
  },
  {
   "cell_type": "markdown",
   "metadata": {},
   "source": [
    "### Parte 3 - Cálculo da saída do neurônio¶\n",
    "\n",
    "Com os pesos, bias inicializados e a função de ativação implementada, calcula-se a saída através da equação:\n",
    "\n",
    " $$ \\begin{equation}\n",
    "  Z = W*X + b\n",
    "\\end{equation} $$\n",
    "Feito isso, a saída final é calculada a partir da função de ativação escolhida. Para implementar essa função, você pode utilizar a [função dot do numpy](https://docs.scipy.org/doc/numpy/reference/generated/numpy.dot.html) para multiplicar"
   ]
  },
  {
   "cell_type": "code",
   "execution_count": 8,
   "metadata": {},
   "outputs": [],
   "source": [
    "def forward(w,b,X):\n",
    "    \"\"\"\n",
    "    Funcao que implementa a etapa forward propagate do neurnio\n",
    "    Parametros: w - pesos\n",
    "                b - bias\n",
    "                X - entradas\n",
    "    \"\"\"\n",
    "    ### Seu codigo aqui (~2 linhas)\n",
    "    z = np.dot(w, X) + b\n",
    "    return activation_func('sigmoid', z)"
   ]
  },
  {
   "cell_type": "markdown",
   "metadata": {},
   "source": [
    "### Parte 4 - Predição\n",
    "De posse da saída, deve-se avaliar o sucesso da mesma definindo-se um limiar. Para problemas binários, pode-se estabelecer o limiar em 0.5, de forma que abaixo disso a saída é 0 e 1 caso contrário."
   ]
  },
  {
   "cell_type": "code",
   "execution_count": 29,
   "metadata": {},
   "outputs": [],
   "source": [
    "def predict(out):\n",
    "    \"\"\"\n",
    "    Funcao que aplica um limiar na saida\n",
    "    Parametro: y - saida do neuronio\n",
    "    \"\"\"\n",
    "    ### Seu codigo aqui (~1 linha)\n",
    "    return 1 * (out >= 0.5)"
   ]
  },
  {
   "cell_type": "markdown",
   "metadata": {},
   "source": [
    "### Parte 5 - Treino e Avaliação\n",
    "\n",
    "Durante o treinamento, a saída é calculada pela função propagate n vezes, onde n é a quantidade de interações do algoritmo. Na primeira interação, os pesos possuem valores pré-definidos pela função de inicialização e são aleatórios após essa interação, as próximas calculam o peso baseado em um erro, calculado a partir da equação:\n",
    "\n",
    " $$ \\begin{equation}\n",
    "  erro = y - ypred\n",
    "\\end{equation} $$\n",
    "\n",
    "Onde y é a saída original do conjunto de dados e y_pred as saidas calculadas. Dado o erro, os pesos são atualizados a partir da equação:\n",
    "\n",
    "$$ \\begin{equation}\n",
    "  w += erro*taxa-de-aprendizado*X\n",
    "\\end{equation} $$\n",
    "\n",
    " \n",
    "Onde X é o conjunto de entrada e a taxa de aprendizagem é um parâmetro de otimização que possui seus valorse variando entre [0,1]. Recomenda-se o uso de taxas de aprendizagem medianas para problemas com redes neurais tradicionais simples (como 0.2-0.5) e taxas de aprendizagem menores para redes neurais profundas (acima de 0.02)."
   ]
  },
  {
   "cell_type": "code",
   "execution_count": 9,
   "metadata": {},
   "outputs": [],
   "source": [
    "def perceptron(x,y, num_interaction, learning_rate):\n",
    "    \"\"\"\n",
    "    Funcao que implementa o loop do treinamento \n",
    "    Parâmetros: x - entrada da rede \n",
    "                y - rotulos/labels\n",
    "                num_interaction - quantidade de interacoes desejada para a rede convergir\n",
    "                learning_rate - taxa de aprendizado para calculo do erro\n",
    "    \"\"\"\n",
    "    #Passo 1 - Inicie os pesos e bias (~1 linha)\n",
    "    w, b = weight_init(x.shape[0])\n",
    "    #Passo 2 - Loop por X interacoes\n",
    "    for j in range(None):\n",
    "        # Passo 3 -  calcule a saida do neuronio (~1 linha)\n",
    "        y_pred = forward(w, b, x)\n",
    "        # Passo 4 - calcule o erro entre a saida obtida e a saida desejada nos rotulos/labels (~1 linha)\n",
    "        erro = y - y_pred\n",
    "        # Passo 5 - Atualize o valor dos pesos (~1 linha)\n",
    "        # Dica: voce pode utilizar a funcao np.dot e a funcao transpose de numpy \n",
    "        w += np.dot(erro*learning_rate, x.T)\n",
    "        \n",
    "    # Verifique as saídas\n",
    "    print('Saída obtida:', y_pred)\n",
    "    print('Pesos obtidos:', w)\n",
    "\n",
    "    #Métricas de Avaliação\n",
    "    y_pred = predict(y_pred)\n",
    "    print('Matriz de Confusão:')\n",
    "    print(confusion_matrix(y, y_pred))\n",
    "    print('F1 Score:')\n",
    "    print(classification_report(y, y_pred))"
   ]
  },
  {
   "cell_type": "code",
   "execution_count": null,
   "metadata": {},
   "outputs": [],
   "source": []
  }
 ],
 "metadata": {
  "kernelspec": {
   "display_name": "Python 2",
   "language": "python",
   "name": "python2"
  },
  "language_info": {
   "codemirror_mode": {
    "name": "ipython",
    "version": 2
   },
   "file_extension": ".py",
   "mimetype": "text/x-python",
   "name": "python",
   "nbconvert_exporter": "python",
   "pygments_lexer": "ipython2",
   "version": "2.7.12"
  }
 },
 "nbformat": 4,
 "nbformat_minor": 1
}
